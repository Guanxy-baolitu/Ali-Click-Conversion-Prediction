{
 "cells": [
  {
   "cell_type": "code",
   "execution_count": null,
   "metadata": {},
   "outputs": [],
   "source": [
    "skeleton_path = '/home/guanxy/Documents/share/Ali_Click_Predict/sample_skeleton_train.csv'\n",
    "click_skeleton_path = '/home/guanxy/Documents/share/Ali_Click_Predict/sample_skeleton_train.csv'\n",
    "with open(skeleton_path, 'r', encoding='utf-8') as sf:\n",
    "    with open(click_skeleton_path, 'w', encoding='utf-8') as wf:\n",
    "        line = sf.readline().strip()\n",
    "        while line:\n",
    "            features = line.split(',')\n",
    "            if features[1] == '1':\n",
    "                wf.write(line + '\\n')\n",
    "            line = sf.readline().strip()"
   ]
  }
 ],
 "metadata": {
  "kernelspec": {
   "display_name": "Python 3",
   "language": "python",
   "name": "python3"
  },
  "language_info": {
   "codemirror_mode": {
    "name": "ipython",
    "version": 3
   },
   "file_extension": ".py",
   "mimetype": "text/x-python",
   "name": "python",
   "nbconvert_exporter": "python",
   "pygments_lexer": "ipython3",
   "version": "3.7.1"
  }
 },
 "nbformat": 4,
 "nbformat_minor": 2
}
