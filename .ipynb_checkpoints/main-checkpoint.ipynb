{
 "cells": [
  {
   "cell_type": "code",
   "execution_count": 7,
   "metadata": {},
   "outputs": [
    {
     "name": "stdout",
     "output_type": "stream",
     "text": [
      "42000 785\n",
      "训练完成...\n"
     ]
    }
   ],
   "source": [
    "import pandas as pd\n",
    "\n",
    "def loadDataSet(fileName):\n",
    "    fr = pd.read_csv(fileName)\n",
    "    row_num = fr.shape[0]\n",
    "    line_num = fr.shape[1]\n",
    "    print(\"%d %d\" % (row_num, line_num))\n",
    "    \n",
    "if __name__ == \"__main__\":\n",
    "    loadDataSet('/home/guanxy/Documents/share/Ali_Click_Predict/common_features_train.csv')\n",
    "    print(\"训练完成...\")"
   ]
  },
  {
   "cell_type": "code",
   "execution_count": null,
   "metadata": {},
   "outputs": [],
   "source": []
  },
  {
   "cell_type": "code",
   "execution_count": null,
   "metadata": {},
   "outputs": [],
   "source": []
  }
 ],
 "metadata": {
  "kernelspec": {
   "display_name": "Python 3",
   "language": "python",
   "name": "python3"
  },
  "language_info": {
   "codemirror_mode": {
    "name": "ipython",
    "version": 3
   },
   "file_extension": ".py",
   "mimetype": "text/x-python",
   "name": "python",
   "nbconvert_exporter": "python",
   "pygments_lexer": "ipython3",
   "version": "3.7.0"
  }
 },
 "nbformat": 4,
 "nbformat_minor": 2
}
