{
 "cells": [
  {
   "cell_type": "code",
   "execution_count": null,
   "metadata": {},
   "outputs": [
    {
     "name": "stdout",
     "output_type": "stream",
     "text": [
      "1-2-3-4-5-6-7-8-9-10-11-12-13-14-15-16-17-18-19-20-21-22-23-24-25-26-27-28-29-30-31-32-33-34-35-36-37-38-39-40-41-42-43-44-45-46-47-48-49-50-51-52-53-54-55-56-57-58-59-60-61-62-63-64-65-66-67-68-69-70-71-72-73-74-ROUND 1 size = 100000\n",
      "1-2-3-4-5-6-7-8-9-10-11-12-13-14-15-16-17-18-19-20-21-22-23-24-25-26-27-28-29-30-31-32-33-34-35-36-37-38-39-40-41-42-43-44-45-46-47-48-49-50-51-52-53-54-55-56-57-58-59-60-61-62-63-64-65-66-67-68-69-70-71-72-73-74-ROUND 2 size = 200000\n",
      "1-2-3-4-5-6-7-8-9-10-11-12-13-14-15-16-17-18-19-20-21-22-23-24-25-26-27-28-29-30-31-32-33-34-35-36-37-38-39-40-41-42-43-44-45-46-47-48-49-50-51-52-53-54-55-56-57-58-59-60-61-62-63-64-65-66-67-68-69-70-71-72-73-74-ROUND 3 size = 300000\n",
      "1-2-3-4-5-6-7-8-9-10-11-12-13-14-15-16-17-18-19-20-21-22-23-24-25-26-27-28-29-30-31-32-33-34-35-36-37-38-39-40-41-42-43-44-45-46-47-48-49-50-51-52-53-54-55-56-57-58-59-60-61-62-63-64-65-66-67-68-69-70-71-72-73-74-ROUND 4 size = 400000\n",
      "1-2-3-4-5-6-7-8-9-10-11-12-13-14-15-16-17-18-19-20-21-22-23-24-25-26-27-28-29-30-31-32-33-34-35-36-37-38-39-40-41-42-43-44-45-46-47-48-49-50-51-52-53-54-55-56-57-58-59-60-61-62-63-64-65-66-67-68-69-70-71-72-73-74-ROUND 5 size = 500000\n",
      "1-2-3-4-5-6-7-8-9-10-11-12-13-14-15-16-17-18-19-20-21-22-23-24-25-26-27-28-29-30-31-32-33-34-35-36-37-38-39-40-41-42-43-44-45-46-47-48-49-50-51-52-53-54-55-56-57-58-59-60-61-62-63-64-65-66-67-68-69-70-71-72-73-74-ROUND 6 size = 600000\n",
      "1-2-3-4-5-6-7-8-9-10-11-12-13-14-15-16-17-18-19-20-21-22-23-24-25-26-27-28-29-30-31-32-33-34-35-36-37-38-39-40-41-42-43-44-45-46-47-48-49-50-51-52-53-54-55-56-57-58-59-60-61-62-63-64-65-66-67-68-69-70-71-72-73-74-ROUND 7 size = 700000\n",
      "1-2-3-4-5-6-7-8-9-10-11-12-13-14-15-16-17-18-19-20-21-22-23-24-25-26-27-28-29-30-31-32-33-34-35-36-37-38-39-40-41-42-43-44-45-46-47-48-49-50-51-52-53-54-55-56-57-58-59-60-61-62-63-64-65-66-67-68-69-70-71-72-73-74-ROUND 8 size = 800000\n",
      "1-2-3-4-5-6-7-8-9-10-11-12-13-14-15-16-17-18-19-20-21-22-23-24-25-26-27-28-29-30-31-32-33-34-35-36-37-38-39-40-41-42-43-44-45-46-47-48-49-50-51-52-53-54-55-56-57-58-59-60-61-62-63-64-65-66-67-68-69-70-71-72-73-74-ROUND 9 size = 900000\n",
      "1-2-3-4-5-6-7-8-9-10-11-12-13-14-15-16-17-18-19-20-21-22-23-24-25-26-27-28-29-30-31-32-33-34-35-36-37-38-39-40-41-42-43-44-45-46-47-48-49-50-51-52-53-54-55-56-57-58-59-60-61-62-63-64-65-66-67-68-69-70-71-72-73-74-ROUND 10 size = 1000000\n",
      "1-2-3-4-5-6-7-8-9-10-11-12-13-14-15-16-17-18-19-20-21-22-23-24-25-26-27-28-29-30-31-32-33-34-35-36-37-38-39-40-41-42-43-44-45-46-47-48-49-50-51-52-53-54-55-56-57-58-59-60-61-62-63-64-65-66-67-68-69-70-71-72-73-74-ROUND 11 size = 1100000\n",
      "1-2-3-4-5-6-7-8-9-10-11-12-13-14-15-16-17-18-19-20-21-22-23-24-25-26-27-28-29-30-31-32-33-34-35-36-37-38-39-40-41-42-43-44-45-46-47-48-49-50-51-52-53-54-55-56-57-58-59-60-61-62-63-64-65-66-67-68-69-70-71-72-73-74-ROUND 12 size = 1200000\n",
      "1-2-3-4-5-6-7-8-9-10-11-12-13-14-15-16-17-18-19-20-21-22-23-24-25-26-27-28-29-30-31-32-33-34-35-36-37-38-39-40-41-42-43-44-45-46-47-48-49-50-51-52-53-54-55-56-57-58-59-60-61-62-63-64-65-66-67-"
     ]
    }
   ],
   "source": [
    "import pandas as pd\n",
    "import re\n",
    "\n",
    "click_skeleton_path = '/home/guanxy/Documents/share/Ali_Click_Predict/click_sample_skeleton_train.csv'\n",
    "common_feature_path = '/home/guanxy/Documents/share/Ali_Click_Predict/common_features_train.csv'\n",
    "# merged_df = pd.DataFrame()\n",
    "round = 0\n",
    "total = 0\n",
    "\n",
    "feature_columns = ['feature_list_x','feature_list_y']\n",
    "with open('/home/guanxy/Documents/share/Ali_Click_Predict/train_libsvm.txt', 'w', encoding='utf-8') as libsvm:\n",
    "    for chunk_skeleton in pd.read_csv(click_skeleton_path, header=None, names=['sampleID','click','conversion','common_feature_index','feature_num','feature_list'], chunksize=100000):\n",
    "        index = 0\n",
    "        for chunk_feature in pd.read_csv(common_feature_path, names=['common_feature_index','feature_num','feature_list'], chunksize=10000):\n",
    "            merged_tmp = pd.merge(chunk_skeleton,chunk_feature,on=['common_feature_index','common_feature_index'],how='inner')      \n",
    "            for i in range(merged_tmp.shape[0]):\n",
    "                output_line = str(merged_tmp['conversion'][i])\n",
    "                dic = {}\n",
    "                for col in range(2):\n",
    "                    featues = re.split(chr(0x01),merged_tmp[feature_columns[col]][i])\n",
    "                    for feature in featues:\n",
    "                        feature_field_ID = re.split(chr(0x02),feature)[0]\n",
    "                        id_value_pair = re.split(chr(0x02),feature)[1]\n",
    "                        feature_id= re.split(chr(0x03), id_value_pair)[0]\n",
    "                        feature_value=re.split(chr(0x03), id_value_pair)[1]\n",
    "                        dic[int(feature_id)]=feature_value\n",
    "#                         print(feature_field_ID, end='|');\n",
    "#                         print(feature_id, end='#');\n",
    "#                         print(feature_value);\n",
    "                for key in sorted(dic.keys()):\n",
    "                    output_line += (' ' + str(key) + ':' + dic[key])\n",
    "                output_line = output_line + '\\n'\n",
    "#                 print(output_line)\n",
    "                libsvm.write(output_line)\n",
    "#             merged_df = pd.concat([merged_df, merged_tmp], ignore_index=True)\n",
    "            index+=1\n",
    "            print(index, end='-')\n",
    "            total += merged_tmp.shape[0]\n",
    "        round+=1\n",
    "        print('ROUND %d size = %d' % (round, total))\n",
    "# droped_df = merged_df.drop(columns=['sampleID', 'common_feature_index'])\n",
    "# print(droped_df)"
   ]
  },
  {
   "cell_type": "code",
   "execution_count": null,
   "metadata": {},
   "outputs": [],
   "source": []
  },
  {
   "cell_type": "code",
   "execution_count": null,
   "metadata": {},
   "outputs": [],
   "source": []
  }
 ],
 "metadata": {
  "kernelspec": {
   "display_name": "Python 3",
   "language": "python",
   "name": "python3"
  },
  "language_info": {
   "codemirror_mode": {
    "name": "ipython",
    "version": 3
   },
   "file_extension": ".py",
   "mimetype": "text/x-python",
   "name": "python",
   "nbconvert_exporter": "python",
   "pygments_lexer": "ipython3",
   "version": "3.7.1"
  }
 },
 "nbformat": 4,
 "nbformat_minor": 2
}
